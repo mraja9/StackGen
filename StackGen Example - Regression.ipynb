{
 "cells": [
  {
   "cell_type": "code",
   "execution_count": 1,
   "metadata": {
    "collapsed": false
   },
   "outputs": [],
   "source": [
    "from Stacked_Generalization.stackgen import StackGen"
   ]
  },
  {
   "cell_type": "code",
   "execution_count": 2,
   "metadata": {
    "collapsed": true
   },
   "outputs": [],
   "source": [
    "from sklearn.linear_model import Ridge\n",
    "from sklearn.linear_model import Lasso\n",
    "from sklearn.ensemble import RandomForestRegressor\n",
    "from sklearn.model_selection import train_test_split\n",
    "from sklearn import datasets\n",
    "\n",
    "boston = datasets.load_boston()\n",
    "X = boston.data\n",
    "Y = boston.target\n",
    "X_TR, X_TE, y_TR, y_TE = train_test_split(X, Y, test_size=0.3, random_state=9)"
   ]
  },
  {
   "cell_type": "code",
   "execution_count": 3,
   "metadata": {
    "collapsed": false,
    "scrolled": true
   },
   "outputs": [
    {
     "name": "stdout",
     "output_type": "stream",
     "text": [
      "### Fitting model Ridge(alpha=1.0, copy_X=True, fit_intercept=True, max_iter=None,\n",
      "   normalize=False, random_state=None, solver='auto', tol=0.001) ###\n",
      "Fold # of CV -> 1\n",
      "Error for fold 1 is 24.0085184612\n",
      "Fold # of CV -> 2\n",
      "Error for fold 2 is 22.9652170097\n",
      "Fold # of CV -> 3\n",
      "Error for fold 3 is 32.4027322294\n",
      "Average CV error is  26.4588225668\n",
      "OOS error --->  19.8432255394\n",
      "\n",
      "### Fitting model Lasso(alpha=1.0, copy_X=True, fit_intercept=True, max_iter=1000,\n",
      "   normalize=False, positive=False, precompute=False, random_state=None,\n",
      "   selection='cyclic', tol=0.0001, warm_start=False) ###\n",
      "Fold # of CV -> 1\n",
      "Error for fold 1 is 29.0020528231\n",
      "Fold # of CV -> 2\n",
      "Error for fold 2 is 30.7113519387\n",
      "Fold # of CV -> 3\n",
      "Error for fold 3 is 31.5664792076\n",
      "Average CV error is  30.4266279898\n",
      "OOS error --->  26.9220710546\n",
      "\n",
      "Stacking base models using RandomForestRegressor(bootstrap=True, criterion='mse', max_depth=None,\n",
      "           max_features='auto', max_leaf_nodes=None,\n",
      "           min_impurity_split=1e-07, min_samples_leaf=1,\n",
      "           min_samples_split=2, min_weight_fraction_leaf=0.0,\n",
      "           n_estimators=10, n_jobs=1, oob_score=False, random_state=9,\n",
      "           verbose=0, warm_start=False)  ----> \n",
      "### Fitting model RandomForestRegressor(bootstrap=True, criterion='mse', max_depth=None,\n",
      "           max_features='auto', max_leaf_nodes=None,\n",
      "           min_impurity_split=1e-07, min_samples_leaf=1,\n",
      "           min_samples_split=2, min_weight_fraction_leaf=0.0,\n",
      "           n_estimators=10, n_jobs=1, oob_score=False, random_state=9,\n",
      "           verbose=0, warm_start=False) ###\n",
      "Fold # of CV -> 1\n",
      "Error for fold 1 is 23.6845254237\n",
      "Fold # of CV -> 2\n",
      "Error for fold 2 is 30.3438033898\n",
      "Fold # of CV -> 3\n",
      "Error for fold 3 is 37.7114652542\n",
      "Average CV error is  30.5799313559\n",
      "OOS error --->  16.0319447368\n",
      "\n"
     ]
    }
   ],
   "source": [
    "#Stacking with Random Forest Regressor (meta-features only)\n",
    "stacked_regressor = StackGen(base_models = [Ridge(), Lasso()], \n",
    "                            stacker = RandomForestRegressor(random_state = 9), \n",
    "                            classification = False, \n",
    "                            n_folds = 3, \n",
    "                            kf_random_state = 9, \n",
    "                            stack_with_orig = False, \n",
    "                            save_results = 0)\n",
    "_ = stacked_regressor.fit_predict(X_TR, y_TR, X_TE, y_TE) #MSE OOS error --->  16.0319447368"
   ]
  },
  {
   "cell_type": "code",
   "execution_count": 4,
   "metadata": {
    "collapsed": false,
    "scrolled": true
   },
   "outputs": [
    {
     "name": "stdout",
     "output_type": "stream",
     "text": [
      "### Fitting model Ridge(alpha=1.0, copy_X=True, fit_intercept=True, max_iter=None,\n",
      "   normalize=False, random_state=None, solver='auto', tol=0.001) ###\n",
      "Fold # of CV -> 1\n",
      "Error for fold 1 is 24.0085184612\n",
      "Fold # of CV -> 2\n",
      "Error for fold 2 is 22.9652170097\n",
      "Fold # of CV -> 3\n",
      "Error for fold 3 is 32.4027322294\n",
      "Average CV error is  26.4588225668\n",
      "OOS error --->  19.8432255394\n",
      "\n",
      "### Fitting model Lasso(alpha=1.0, copy_X=True, fit_intercept=True, max_iter=1000,\n",
      "   normalize=False, positive=False, precompute=False, random_state=None,\n",
      "   selection='cyclic', tol=0.0001, warm_start=False) ###\n",
      "Fold # of CV -> 1\n",
      "Error for fold 1 is 29.0020528231\n",
      "Fold # of CV -> 2\n",
      "Error for fold 2 is 30.7113519387\n",
      "Fold # of CV -> 3\n",
      "Error for fold 3 is 31.5664792076\n",
      "Average CV error is  30.4266279898\n",
      "OOS error --->  26.9220710546\n",
      "\n",
      "Stacking base models using RandomForestRegressor(bootstrap=True, criterion='mse', max_depth=None,\n",
      "           max_features='auto', max_leaf_nodes=None,\n",
      "           min_impurity_split=1e-07, min_samples_leaf=1,\n",
      "           min_samples_split=2, min_weight_fraction_leaf=0.0,\n",
      "           n_estimators=10, n_jobs=1, oob_score=False, random_state=9,\n",
      "           verbose=0, warm_start=False)  ----> \n",
      "### Fitting model RandomForestRegressor(bootstrap=True, criterion='mse', max_depth=None,\n",
      "           max_features='auto', max_leaf_nodes=None,\n",
      "           min_impurity_split=1e-07, min_samples_leaf=1,\n",
      "           min_samples_split=2, min_weight_fraction_leaf=0.0,\n",
      "           n_estimators=10, n_jobs=1, oob_score=False, random_state=9,\n",
      "           verbose=0, warm_start=False) ###\n",
      "Fold # of CV -> 1\n",
      "Error for fold 1 is 12.0712813559\n",
      "Fold # of CV -> 2\n",
      "Error for fold 2 is 18.1125584746\n",
      "Fold # of CV -> 3\n",
      "Error for fold 3 is 21.8183389831\n",
      "Average CV error is  17.3340596045\n",
      "OOS error --->  11.7684244883\n",
      "\n"
     ]
    }
   ],
   "source": [
    "#Stacking with Random Forest Regressor (original features horizontally stacked with meta-features)\n",
    "stacked_regressor = StackGen(base_models = [Ridge(), Lasso()], \n",
    "                            stacker = RandomForestRegressor(random_state = 9), \n",
    "                            classification = False, \n",
    "                            n_folds = 3, \n",
    "                            kf_random_state = 9, \n",
    "                            stack_with_orig = True, \n",
    "                            save_results = 0)\n",
    "_ = stacked_regressor.fit_predict(X_TR, y_TR, X_TE, y_TE) #MSE  OOS error --->  11.7684244883"
   ]
  },
  {
   "cell_type": "code",
   "execution_count": null,
   "metadata": {
    "collapsed": true
   },
   "outputs": [],
   "source": []
  }
 ],
 "metadata": {
  "kernelspec": {
   "display_name": "Python 3",
   "language": "python",
   "name": "python3"
  },
  "language_info": {
   "codemirror_mode": {
    "name": "ipython",
    "version": 3
   },
   "file_extension": ".py",
   "mimetype": "text/x-python",
   "name": "python",
   "nbconvert_exporter": "python",
   "pygments_lexer": "ipython3",
   "version": "3.6.0"
  }
 },
 "nbformat": 4,
 "nbformat_minor": 2
}
